{
 "cells": [
  {
   "cell_type": "markdown",
   "id": "7d89304a",
   "metadata": {},
   "source": [
    "# WAV2VEC2 Inference Benchmarking\n",
    "\n",
    "Based on https://pytorch.org/audio/stable/tutorials/speech_recognition_pipeline_tutorial.html<br>\n",
    "\n",
    "Originally, this notebook was meant to help me understand how to run WAV2VEC on a GPU.  However, it appears that MPS support for WAV2VEC is not clear.  <br>\n",
    "\n",
    "See other notebooks on decoding for more detailed examples of using WAV2VEC for inference, etc.<br>\n"
   ]
  },
  {
   "cell_type": "markdown",
   "id": "5d2185b3",
   "metadata": {},
   "source": [
    "## Pytorch Setup"
   ]
  },
  {
   "cell_type": "code",
   "execution_count": 134,
   "id": "eae49473",
   "metadata": {
    "tags": []
   },
   "outputs": [
    {
     "name": "stdout",
     "output_type": "stream",
     "text": [
      "PyTorch Version: 2.2.1, Pytorchaudio Version: 2.2.1\n"
     ]
    }
   ],
   "source": [
    "# was recommended for an error with mps mode (didn't seem to help).  \n",
    "# %env PYTORCH_ENABLE_MPS_FALLBACK=1 \n",
    "\n",
    "import os\n",
    "import time\n",
    "import torch\n",
    "import torchaudio\n",
    "import numpy as np\n",
    "import IPython\n",
    "\n",
    "from transformers import pipeline\n",
    "\n",
    "torch.random.manual_seed(0)\n",
    "print(f\"PyTorch Version: {torch.__version__}, Pytorchaudio Version: {torchaudio.__version__}\")\n",
    "\n",
    "#SPEECH_URL = \"https://pytorch-tutorial-assets.s3.amazonaws.com/VOiCES_devkit/source-16k/train/sp0307/Lab41-SRI-VOiCES-src-sp0307-ch127535-sg0042.wav\"\n",
    "#SPEECH_FILE = \"_assets/speech.wav\"\n",
    "SPEECH_FILE = \"data/mary_had_a_little_lamb_spoken.wav\"\n",
    "waveform, sample_rate = torchaudio.load(SPEECH_FILE)"
   ]
  },
  {
   "cell_type": "code",
   "execution_count": 135,
   "id": "57569d28-6e77-4558-b96b-9f6bc31b7943",
   "metadata": {},
   "outputs": [
    {
     "name": "stderr",
     "output_type": "stream",
     "text": [
      "Some weights of the model checkpoint at facebook/wav2vec2-large-960h-lv60-self were not used when initializing Wav2Vec2ForCTC: ['wav2vec2.encoder.pos_conv_embed.conv.weight_g', 'wav2vec2.encoder.pos_conv_embed.conv.weight_v']\n",
      "- This IS expected if you are initializing Wav2Vec2ForCTC from the checkpoint of a model trained on another task or with another architecture (e.g. initializing a BertForSequenceClassification model from a BertForPreTraining model).\n",
      "- This IS NOT expected if you are initializing Wav2Vec2ForCTC from the checkpoint of a model that you expect to be exactly identical (initializing a BertForSequenceClassification model from a BertForSequenceClassification model).\n",
      "Some weights of Wav2Vec2ForCTC were not initialized from the model checkpoint at facebook/wav2vec2-large-960h-lv60-self and are newly initialized: ['wav2vec2.encoder.pos_conv_embed.conv.parametrizations.weight.original0', 'wav2vec2.encoder.pos_conv_embed.conv.parametrizations.weight.original1', 'wav2vec2.masked_spec_embed']\n",
      "You should probably TRAIN this model on a down-stream task to be able to use it for predictions and inference.\n"
     ]
    }
   ],
   "source": [
    "# Create Pipeline\n",
    "model_checkpoint=\"facebook/wav2vec2-large-960h-lv60-self\"\n",
    "asr_pipeline = pipeline(\"automatic-speech-recognition\", model=model_checkpoint)\n",
    "model = asr_pipeline.model\n",
    "vocab = [label.lower() for label in asr_pipeline.tokenizer.vocab]\n",
    "target_sampling_rate = asr_pipeline.feature_extractor.sampling_rate"
   ]
  },
  {
   "cell_type": "code",
   "execution_count": 136,
   "id": "a08082a1-efa0-4d0e-b432-6672a5f84c68",
   "metadata": {
    "jupyter": {
     "source_hidden": true
    }
   },
   "outputs": [
    {
     "name": "stdout",
     "output_type": "stream",
     "text": [
      "Test 1\n",
      "seconds cannot be 0.0.\n",
      "Test 2\n",
      "Size of data: torch.Size([1, 980870]).  Size of Requested Window: 30.0 seconds.  Expected window to be less than: 22.24.\n",
      "Test 3\n",
      "torch.Size([1, 44100])\n"
     ]
    }
   ],
   "source": [
    "def truncate_waveform(data: torch.Tensor,sr: float, seconds: float) ->torch.Tensor:\n",
    "    \"\"\"\n",
    "    Summary: truncates tensor to length that cooresponds to sr * seconds\n",
    "    \n",
    "    Input Arguments: \n",
    "    data (torch.Tensor) - audio data\n",
    "    sr (torch.Float) - sampling rate of audio data\n",
    "    seconds - seconds of data to return. \n",
    "            if the seconds is specified to be larger than the len(tensor) / sr, then an error is raised.  \n",
    "            if seconds is 0, then error is raised.\n",
    "    \n",
    "    Return: torch.Tensor that is truncated from input, or unmodified.\n",
    "    \n",
    "    \"\"\"\n",
    "    # calculate the truncation length of tensor.\n",
    "    truncation_len = int(np.floor(sr * seconds))\n",
    "    \n",
    "    # pull out dimensions.\n",
    "    dim, max_len = data.shape\n",
    "    \n",
    "    if max_len < truncation_len: \n",
    "        raise Exception(f\"Size of data: {data.shape}.  Size of Requested Window: {seconds} seconds.  Expected window to be less than: {max_len / sr:.2f}.\")\n",
    "    \n",
    "    # check for errors in the input.\n",
    "    if seconds == 0.0: \n",
    "        raise Exception(\"seconds cannot be 0.0.\")\n",
    "\n",
    "    #if max_len > truncation_len:\n",
    "    #    print(\"normal truncation occuring.\") \n",
    "    \n",
    "    return data[:,:truncation_len]\n",
    "    \n",
    "testing_truncate_waveform = True\n",
    "if testing_truncate_waveform:\n",
    "    print('Test 1')\n",
    "    try: \n",
    "        w1 = truncate_waveform(waveform, sr=sample_rate, seconds=0.0)\n",
    "    except Exception as e:\n",
    "        print(e)\n",
    "\n",
    "    print('Test 2')\n",
    "    try: \n",
    "        w2 = truncate_waveform(waveform, sr=sample_rate, seconds=30.0)\n",
    "    except Exception as e:\n",
    "        print(e)\n",
    "\n",
    "    print('Test 3')\n",
    "    try: \n",
    "        w3 = truncate_waveform(waveform, sr=sample_rate, seconds=1.0)\n",
    "        print(w3.size())\n",
    "    except Exception as e:\n",
    "        print(e)\n"
   ]
  },
  {
   "cell_type": "code",
   "execution_count": 137,
   "id": "b57ccbc0-48c1-44d6-93d6-2c8930a7cc3f",
   "metadata": {
    "jupyter": {
     "source_hidden": true
    }
   },
   "outputs": [],
   "source": [
    "class GreedyCTCDecoder(torch.nn.Module):\n",
    "    \"\"\"\n",
    "    Summary: simple decoder using argmax to determine best character, \n",
    "             then remove duplicates per CTC's algorithm.\n",
    "    \n",
    "    Note: would be better to use CTC using maximumizing liklihood of sequence \n",
    "         (i.e. using adjacent logits to guess characters.) \n",
    "    \"\"\"\n",
    "    def __init__(self, vocab, pad=0):\n",
    "        super().__init__()\n",
    "        self.labels = vocab\n",
    "        self.blank = pad\n",
    "\n",
    "    def forward(self, emission: torch.Tensor):\n",
    "        \"\"\"Given a sequence emission over labels, get the best path\n",
    "        Args:\n",
    "          emission (Tensor): Logit tensors. Shape `[num_seq, num_label]`.\n",
    "\n",
    "        Returns:\n",
    "          List[str]: The resulting transcript\n",
    "        \"\"\"\n",
    "        indices = torch.argmax(emission, dim=-1)  # [num_seq,]\n",
    "        indices = torch.unique_consecutive(indices, dim=-1)\n",
    "        indices = [int(i) for i in indices if i != self.blank]\n",
    "        \n",
    "        joined = \"\".join([self.labels[i] for i in indices])\n",
    "        return joined.replace(\"|\", \" \").strip().split()\n",
    "        \n",
    "greedy_decoder = GreedyCTCDecoder(vocab)"
   ]
  },
  {
   "cell_type": "code",
   "execution_count": 138,
   "id": "43ed4630",
   "metadata": {},
   "outputs": [
    {
     "name": "stdout",
     "output_type": "stream",
     "text": [
      "File Sample Rate: 44100, Number of Samples: torch.Size([1, 980870])\n",
      "Target Sample Rate: 16000\n",
      "Number of Samples: 16000\n",
      "Wavform is: 1.0s long.\n"
     ]
    },
    {
     "data": {
      "text/html": [
       "\n",
       "                <audio  controls=\"controls\" >\n",
       "                    <source src=\"data:audio/wav;base64,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\" type=\"audio/wav\" />\n",
       "                    Your browser does not support the audio element.\n",
       "                </audio>\n",
       "              "
      ],
      "text/plain": [
       "<IPython.lib.display.Audio object>"
      ]
     },
     "execution_count": 138,
     "metadata": {},
     "output_type": "execute_result"
    }
   ],
   "source": [
    "# Load Song, truncate to 1.0 second\n",
    "if os.path.exists(SPEECH_FILE):\n",
    "    max_length_secs = 1.0\n",
    "    data_waveform, data_sample_rate = torchaudio.load(SPEECH_FILE)\n",
    "    print(f\"File Sample Rate: {data_sample_rate}, Number of Samples: {data_waveform.shape}\")\n",
    "    data_waveform = torchaudio.functional.resample(data_waveform, data_sample_rate, target_sampling_rate)\n",
    "    sample_rate = target_sampling_rate\n",
    "    waveform = truncate_waveform(data_waveform, sample_rate, seconds=max_length_secs)\n",
    "    print(f\"Target Sample Rate: {sample_rate}\")\n",
    "else:\n",
    "    print('NO FILE HERE!')\n",
    "\n",
    "chans, samples = waveform.size()\n",
    "print(f\"Number of Samples: {samples}\")\n",
    "print(f\"Wavform is: {samples / sample_rate}s long.\")\n",
    "IPython.display.Audio(waveform,rate=sample_rate)"
   ]
  },
  {
   "cell_type": "markdown",
   "id": "a8e213f5-4c5c-40bf-bac0-acef601886b8",
   "metadata": {},
   "source": [
    "## Pytorch Inference (CPU) Benchmark\n",
    "**Objective**: Measure single inference lookback to understand if I can keep up real time.  <br>"
   ]
  },
  {
   "cell_type": "code",
   "execution_count": 139,
   "id": "42c833bb-dfb4-443e-9817-6f811ba8a1cc",
   "metadata": {},
   "outputs": [
    {
     "name": "stdout",
     "output_type": "stream",
     "text": [
      "Model Running on: cpu, Waveform Running on CPU: True\n",
      "torch.Size([1, 49, 32])\n",
      "Time to perform inference (with decoding): 0.3105967044830322\n",
      "Transcript: ['mary', 'had']\n"
     ]
    }
   ],
   "source": [
    "# benchmark for 1.0s with CPU\n",
    "# Only run a single forward pass, batch size=1\n",
    "waveform = waveform.to('cpu')\n",
    "model.to('cpu')\n",
    "print(f\"Model Running on: {model.device}, Waveform Running on CPU: {waveform.is_cpu}\")\n",
    "start = time.time()\n",
    "with torch.inference_mode():\n",
    "    emission = model(waveform)\n",
    "    print(emission[0].shape)\n",
    "    transcript = greedy_decoder(emission[0][0,:,:])\n",
    "finish = time.time()\n",
    "print(f\"Time to perform inference (with decoding): {finish-start}\")\n",
    "print(f\"Transcript: {transcript}\")"
   ]
  },
  {
   "cell_type": "markdown",
   "id": "e50b8b74-cd94-49a2-b3fb-3c2eb530a03a",
   "metadata": {},
   "source": [
    "**Conclusion**: CPU based inference is not good enough a realtime lookback.  because the delays are going to make predicting words practically, not useful.  Need a response time near 100ms max (speculation).  \n",
    "\n",
    "Question: I believe the model emissions / logits will perform better if there is more history.  With this in mind, can I actually just concatenate prior emissions with a good CTC decoder?\n",
    "\n",
    "COA 1: concatenate emissions, perform decoding every pass on longer array of emissions.<br>\n",
    "COA 2: concatenate emissions, perform decoding every pass on longer array of emissions AND add a LM that can correct for issues in text.<br>\n",
    "COA 3: make a guess at what will be needed 1 second into the future (bad idea).<br>\n",
    "\n"
   ]
  },
  {
   "cell_type": "markdown",
   "id": "8d602139-cc71-419a-80c5-14dd4e4c2145",
   "metadata": {},
   "source": [
    "# Pytorch Inference (M1 GPU) Benchmark "
   ]
  },
  {
   "cell_type": "code",
   "execution_count": 140,
   "id": "b84a2f69-00f9-4814-a493-e9b671e742eb",
   "metadata": {},
   "outputs": [
    {
     "name": "stdout",
     "output_type": "stream",
     "text": [
      "Model Running on: mps:0, Waveform Running on GPU: True\n",
      "torch.Size([1, 49, 32])\n",
      "Time to perform inference (with decoding): 0.07041597366333008\n",
      "Transcript: []\n",
      "tensor([0, 0, 0, 0, 0, 0, 0, 0, 0, 0, 0, 0, 0, 0, 0, 0, 0, 0, 0, 0, 0, 0, 0, 0,\n",
      "        0, 0, 0, 0, 0, 0, 0, 0, 0, 0, 0, 0, 0, 0, 0, 0, 0, 0, 0, 0, 0, 0, 0, 0,\n",
      "        0], device='mps:0')\n"
     ]
    }
   ],
   "source": [
    "# benchmark for 1.0s with GPU\n",
    "# Only run a single forward pass, batch size=1\n",
    "waveform = waveform.to('mps')\n",
    "model.to('mps') \n",
    "print(f\"Model Running on: {model.device}, Waveform Running on GPU: {waveform.is_mps}\")\n",
    "\n",
    "start = time.time()\n",
    "with torch.inference_mode():\n",
    "    gpu_emission = model(waveform)\n",
    "    print(gpu_emission[0].shape)\n",
    "    transcript_gpu = greedy_decoder(gpu_emission[0][0,:,:])\n",
    "finish = time.time()\n",
    "print(f\"Time to perform inference (with decoding): {finish-start}\")\n",
    "print(f\"Transcript: {transcript_gpu}\")\n",
    "\n",
    "\n",
    "print(torch.argmax(gpu_emission[0][0,:,:],dim=1))"
   ]
  },
  {
   "cell_type": "code",
   "execution_count": 144,
   "id": "d1ae0fd6-2111-43e5-abe7-a2d5c79a1f5c",
   "metadata": {},
   "outputs": [
    {
     "data": {
      "text/plain": [
       "tensor([[0, 0, 0, 0, 0, 0, 0, 0, 0, 0, 0, 0, 0, 0, 0, 0, 0, 0, 0, 0, 0, 0, 0, 0,\n",
       "         0, 0, 0, 0, 0, 0, 0, 0, 0, 0, 0, 0, 0, 0, 0, 0, 0, 0, 0, 0, 0, 0, 0, 0,\n",
       "         0]], device='mps:0')"
      ]
     },
     "execution_count": 144,
     "metadata": {},
     "output_type": "execute_result"
    }
   ],
   "source": [
    "torch.argmax(gpu_emission[0],dim=-1)"
   ]
  },
  {
   "cell_type": "code",
   "execution_count": 143,
   "id": "25c51f36-81a1-45f7-9117-efff7cdea716",
   "metadata": {},
   "outputs": [
    {
     "data": {
      "text/plain": [
       "tensor([[ 0,  0,  0,  0,  0,  0,  0,  0,  0, 17,  0,  0,  0,  7,  0,  0,  0, 13,\n",
       "         13,  0,  0,  0,  0, 22,  0,  0,  0,  0,  0,  0,  4,  0, 11,  0,  0,  7,\n",
       "          7,  0,  0,  0, 14,  0,  0,  0,  0,  0,  0,  0,  4]])"
      ]
     },
     "execution_count": 143,
     "metadata": {},
     "output_type": "execute_result"
    }
   ],
   "source": [
    "torch.argmax(emission[0],dim=-1)"
   ]
  },
  {
   "cell_type": "markdown",
   "id": "fb6ece6e-7ec1-43db-8a88-f728bd9b240c",
   "metadata": {},
   "source": [
    "**Conclusion**: GPU support for weight norm is cuasing some kind of issue.  I used the FALLBACK (see above) environmental variable to see if that helped, but the response is blank, so Im not sure if the weight norm is doing a pass through thing, and then corrupting the results, or if the data is not making it to the output for some reason.  This issue may be similar to the CoreML issue below.\n",
    "\n",
    "Issue here: \n",
    "https://github.com/pytorch/pytorch/issues/77764"
   ]
  },
  {
   "cell_type": "markdown",
   "id": "5acecee5-a703-459b-90ce-1b1e68ff8721",
   "metadata": {},
   "source": [
    "**Conclusion**: there is some issue with weight norm that I think there is a work around for, but I haven't have the time to work through it. <br>\n",
    "https://github.com/pytorch/pytorch/issues/57289\n",
    "\n",
    "Apparently, this may work:<br> \n",
    "`for layer in layers_with_weight_norm:`<br>\n",
    "`   torch.nn.utils.remove_weight_norm(layer)`"
   ]
  },
  {
   "cell_type": "markdown",
   "id": "fdcd3962-df30-4258-9cec-83df582ae4c3",
   "metadata": {},
   "source": [
    "# ONNX Benchmark\n",
    "**Objective**: Attempt to see if ONNX gives you some imporovement in performance on CPU\n",
    "https://pytorch.org/tutorials/advanced/super_resolution_with_onnxruntime.html\n"
   ]
  },
  {
   "cell_type": "code",
   "execution_count": 145,
   "id": "f9444a56-187e-4766-ad1e-651fc8ce8725",
   "metadata": {},
   "outputs": [
    {
     "name": "stdout",
     "output_type": "stream",
     "text": [
      "Model Running on: cpu, Waveform Running on CPU: True\n"
     ]
    },
    {
     "name": "stderr",
     "output_type": "stream",
     "text": [
      "/Users/das/Library/Caches/pypoetry/virtualenvs/wav2vec2-l-itsiG_-py3.11/lib/python3.11/site-packages/transformers/models/wav2vec2/modeling_wav2vec2.py:594: TracerWarning: Converting a tensor to a Python boolean might cause the trace to be incorrect. We can't record the data flow of Python values, so this value will be treated as a constant in the future. This means that the trace might not generalize to other inputs!\n",
      "  if attn_weights.size() != (bsz * self.num_heads, tgt_len, src_len):\n",
      "/Users/das/Library/Caches/pypoetry/virtualenvs/wav2vec2-l-itsiG_-py3.11/lib/python3.11/site-packages/transformers/models/wav2vec2/modeling_wav2vec2.py:633: TracerWarning: Converting a tensor to a Python boolean might cause the trace to be incorrect. We can't record the data flow of Python values, so this value will be treated as a constant in the future. This means that the trace might not generalize to other inputs!\n",
      "  if attn_output.size() != (bsz * self.num_heads, tgt_len, self.head_dim):\n"
     ]
    },
    {
     "name": "stdout",
     "output_type": "stream",
     "text": [
      "ONNX file saved.\n"
     ]
    }
   ],
   "source": [
    "import onnx, onnxruntime\n",
    "\n",
    "# Exporting Pytorch Model to ONNX file...\n",
    "waveform = waveform_trunc.to('cpu')\n",
    "model.to('cpu')\n",
    "print(f\"Model Running on: {model.device}, Waveform Running on CPU: {waveform.is_cpu}\")\n",
    "\n",
    "# Putting into eval mode: i.e. disabling calculation of gradients.\n",
    "model.eval()\n",
    "\n",
    "# Adding example inputs to perform something called tracing...\n",
    "example_input = torch.randn(1,16000)\n",
    "# returns example emissions (garbage output) from the pytorch model\n",
    "torch_out = model(example_input)\n",
    "\n",
    "# take the original pytorch model, and the example_input and export to file...\n",
    "torch.onnx.export(model,\n",
    "                  example_input,\n",
    "                  'wav2vec2.onnx')\n",
    "\n",
    "print(\"ONNX file saved.\")"
   ]
  },
  {
   "cell_type": "code",
   "execution_count": 146,
   "id": "e3cf0cf1-6ec1-4817-ae6a-ab06e3054090",
   "metadata": {},
   "outputs": [
    {
     "name": "stdout",
     "output_type": "stream",
     "text": [
      "Model Ready for Inference\n"
     ]
    }
   ],
   "source": [
    "# Loading ONNX file and preparing for Inference.\n",
    "\n",
    "# loading the model into memory, checking for issues, c\n",
    "omodel = onnx.load('wav2vec2.onnx')\n",
    "onnx.checker.check_model(omodel)\n",
    "\n",
    "# InferenceSession is the main class of ONNX Runtime. \n",
    "# It is used to load and run an ONNX model, \n",
    "# as well as specify environment and application configuration options.\n",
    "# as far as I can tell GPU support is spotty for M1\n",
    "# https://onnxruntime.ai/docs/execution-providers/\n",
    "ort_session = onnxruntime.InferenceSession('wav2vec2.onnx')\n",
    "print(\"Model Ready for Inference\")"
   ]
  },
  {
   "cell_type": "code",
   "execution_count": 147,
   "id": "c5a3753b-6259-4ce1-b2a9-5f02fabff1a5",
   "metadata": {},
   "outputs": [
    {
     "name": "stdout",
     "output_type": "stream",
     "text": [
      "Time to perform inference: 0.18062806129455566\n",
      "[]\n"
     ]
    }
   ],
   "source": [
    "start= time.time()\n",
    "def to_numpy(tensor):\n",
    "    return tensor.detach().cpu().numpy() if tensor.requires_grad else tensor.cpu().numpy()\n",
    "ort_inputs = {ort_session.get_inputs()[0].name: to_numpy(waveform[0,:].reshape(1,16000))}\n",
    "ort_outs = ort_session.run(None, ort_inputs)\n",
    "transcript = greedy_decoder(torch.Tensor(ort_outs[0][0]))\n",
    "finish = time.time()\n",
    "print(f\"Time to perform inference: {finish-start}\")\n",
    "print(transcript)\n"
   ]
  },
  {
   "cell_type": "markdown",
   "id": "f7ff500c-c66f-44e8-b1b3-a9d9704dcdc3",
   "metadata": {},
   "source": [
    "**Conclusion**: ONNX used to work, but with the latest update there are some holes that haven't been filled, so I'm going to ignore ONNX until I absolutely need it."
   ]
  },
  {
   "cell_type": "code",
   "execution_count": null,
   "id": "65101a52-986c-4187-ab8c-87c1efc86c06",
   "metadata": {},
   "outputs": [],
   "source": [
    "import time\n",
    "from IPython.display import clear_output\n",
    "\n",
    "i = 0\n",
    "while True: \n",
    "    print(f\"Hello: {i}\")\n",
    "    i += 1\n",
    "    time.sleep(0.2)\n",
    "    clear_output(wait=True)"
   ]
  },
  {
   "cell_type": "markdown",
   "id": "2c16b103-b578-41e4-bfa5-474bde8b39f9",
   "metadata": {},
   "source": [
    "# Next Steps\n",
    "Attempt to profile the ONNX model.<br>\n",
    "Is this running on the M1 chip? <br>\n",
    "\n",
    "Here is an example for profiling:<br>\n",
    "https://machinelearning.apple.com/research/neural-engine-transformers<br>"
   ]
  },
  {
   "cell_type": "code",
   "execution_count": null,
   "id": "df6f02c5-9b3d-4250-b58f-742c1bf7439b",
   "metadata": {},
   "outputs": [],
   "source": []
  }
 ],
 "metadata": {
  "kernelspec": {
   "display_name": "WAV2VEC (with Poetry)",
   "language": "python",
   "name": "wav2vec2"
  },
  "language_info": {
   "codemirror_mode": {
    "name": "ipython",
    "version": 3
   },
   "file_extension": ".py",
   "mimetype": "text/x-python",
   "name": "python",
   "nbconvert_exporter": "python",
   "pygments_lexer": "ipython3",
   "version": "3.11.7"
  }
 },
 "nbformat": 4,
 "nbformat_minor": 5
}
