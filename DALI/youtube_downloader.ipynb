{
 "cells": [
  {
   "cell_type": "markdown",
   "id": "1a53e56d-c2cc-4bb1-b7ee-7684ac58374c",
   "metadata": {},
   "source": [
    "# Youtube Downloader\n",
    "\n",
    "Example using yt_dlp to download a random song based on the URL.  Saves the .wav file in the local directory."
   ]
  },
  {
   "cell_type": "code",
   "execution_count": 3,
   "id": "6074a5e2-25e5-4e91-a9ae-07922c1d8f3c",
   "metadata": {},
   "outputs": [
    {
     "name": "stdout",
     "output_type": "stream",
     "text": [
      "[youtube] Extracting URL: http://www.youtube.com/watch?v=0TVx-gmmPu0\n",
      "[youtube] 0TVx-gmmPu0: Downloading webpage\n",
      "[youtube] 0TVx-gmmPu0: Downloading ios player API JSON\n",
      "[youtube] 0TVx-gmmPu0: Downloading android player API JSON\n",
      "[youtube] 0TVx-gmmPu0: Downloading m3u8 information\n",
      "[info] 0TVx-gmmPu0: Downloading 1 format(s): 251\n",
      "[download] Destination: test_download\n"
     ]
    },
    {
     "name": "stderr",
     "output_type": "stream",
     "text": [
      "Input #0, matroska,webm, from 'https://rr3---sn-5uaeznyz.googlevideo.com/videoplayback?expire=1711507654&ei=ZjQDZqvOGaKTy_sP49izuAo&ip=2601%3A780%3A8200%3A14a9%3Ab14f%3A7d43%3Af314%3Ab242&id=o-AFqXKU-s_ICQwuu_4zVoXDN28S4pRtaXKLvmKTxzCLYQ&itag=251&source=youtube&requiressl=yes&xpc=EgVo2aDSNQ%3D%3D&mh=ky&mm=31%2C29&mn=sn-5uaeznyz%2Csn-5ualdnsy&ms=au%2Crdu&mv=m&mvi=3&pl=25&gcr=us&initcwndbps=2232500&vprv=1&svpuc=1&mime=audio%2Fwebm&gir=yes&clen=3507909&dur=211.481&lmt=1637984454008846&mt=1711485663&fvip=3&keepalive=yes&fexp=51141541&c=ANDROID&txp=1432434&sparams=expire%2Cei%2Cip%2Cid%2Citag%2Csource%2Crequiressl%2Cxpc%2Cgcr%2Cvprv%2Csvpuc%2Cmime%2Cgir%2Cclen%2Cdur%2Clmt&sig=AJfQdSswRQIhAL6TZCMf4Ssg0k-MifVhr-QbDwpWP_NKiW5k_5JFzEbpAiBcU7eVp7FwWeTMFs5UQp9vwrVEWFm7T_Hq8B6ypuw9QA%3D%3D&lsparams=mh%2Cmm%2Cmn%2Cms%2Cmv%2Cmvi%2Cpl%2Cinitcwndbps&lsig=ALClDIEwRQIhAMDG90zUiOdz3xC6FjXs-6WX79MugsSezLTN3FB7XSvJAiBMXNvC_iVatxFyjBzNSkoe8E6-ieMuUHXneNdggvtVuw%3D%3D':\n",
      "  Metadata:\n",
      "    encoder         : google/video-file\n",
      "  Duration: 00:03:31.48, start: -0.007000, bitrate: 132 kb/s\n",
      "  Stream #0:0(eng): Audio: opus, 48000 Hz, stereo, fltp (default)\n",
      "Output #0, webm, to 'file:test_download.part':\n",
      "  Metadata:\n",
      "    encoder         : Lavf60.16.100\n",
      "  Stream #0:0(eng): Audio: opus, 48000 Hz, stereo, fltp (default)\n",
      "Stream mapping:\n",
      "  Stream #0:0 -> #0:0 (copy)\n",
      "Press [q] to stop, [?] for help\n",
      "[out#0/webm @ 0x600002374480] video:0kB audio:3353kB subtitle:0kB other streams:0kB global headers:0kB muxing overhead: 2.208972%\n",
      "size=    3427kB time=00:03:31.46 bitrate= 132.7kbits/s speed= 908x    \n"
     ]
    },
    {
     "name": "stdout",
     "output_type": "stream",
     "text": [
      "[download] 100% of    3.35MiB in 00:00:00 at 7.86MiB/s\n",
      "Done downloading, now converting ...\n",
      "[ExtractAudio] Destination: test_download.wav\n",
      "Deleting original file test_download (pass -k to keep)\n"
     ]
    }
   ],
   "source": [
    "import yt_dlp\n",
    "\n",
    "import download\n",
    "\n",
    "filename=\"test_download\"\n",
    "youtube_url=\"0TVx-gmmPu0\"\n",
    "download.generic_download(youtube_url,filename)"
   ]
  },
  {
   "cell_type": "code",
   "execution_count": null,
   "id": "0d9dd741-5b6c-47fe-a4a2-60739888adf8",
   "metadata": {},
   "outputs": [],
   "source": []
  }
 ],
 "metadata": {
  "kernelspec": {
   "display_name": "dali-notebooks (Poetry)",
   "language": "python",
   "name": "dali-notebooks"
  },
  "language_info": {
   "codemirror_mode": {
    "name": "ipython",
    "version": 3
   },
   "file_extension": ".py",
   "mimetype": "text/x-python",
   "name": "python",
   "nbconvert_exporter": "python",
   "pygments_lexer": "ipython3",
   "version": "3.11.7"
  }
 },
 "nbformat": 4,
 "nbformat_minor": 5
}
