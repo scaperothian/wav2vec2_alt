{
 "cells": [
  {
   "cell_type": "markdown",
   "id": "1c376503-cf67-46df-9bcf-e82b52c348eb",
   "metadata": {},
   "source": [
    "# DALI Downloader\n",
    "\n",
    "Download one, five random or all songs for the DALI data set.  Select the version.  Generally, recommend using the dali_downloader.py directly for using dali_downloader.get_all_songs(...).  See README.md for recommended detailed usage.\n",
    "\n",
    "*Note: I copied heavily from DALI source under code/DALI/download.py.  There is an issue with youtube_dl that is preventing the ability to use that repo based on the last stable version.  My first attempt at trying to use the latest release did not work, so I am working out of this dali_download.py for processing using yt_dlp which is a fork of youtube_dl.*"
   ]
  },
  {
   "cell_type": "code",
   "execution_count": 2,
   "id": "5a6645fe-3708-47ea-96b1-2928be7fa59d",
   "metadata": {},
   "outputs": [],
   "source": [
    "import os\n",
    "import sys\n",
    "\n",
    "import numpy as np\n",
    "import yt_dlp\n",
    "import DALI as dali_code\n",
    "from DALI import utilities\n",
    "\n",
    "# local module...\n",
    "import dali_downloader as download\n"
   ]
  },
  {
   "cell_type": "code",
   "execution_count": 3,
   "id": "f95a3787-438b-4d2a-bfd8-37e020d76d29",
   "metadata": {},
   "outputs": [],
   "source": [
    "dali_version = '2' #'2'\n",
    "\n",
    "dali_data_path = os.getcwd()+f\"/metadata_v{dali_version}\"\n",
    "dali_data = dali_code.get_the_DALI_dataset(dali_data_path, skip=[], keep=[])\n",
    "allsongfilenames = utilities.get_files_path(dali_data_path,'.gz')"
   ]
  },
  {
   "cell_type": "markdown",
   "id": "2c81603d-8a5e-4297-9dd3-9239859d38e3",
   "metadata": {},
   "source": [
    "# Download a Single Song by DALI song ID."
   ]
  },
  {
   "cell_type": "code",
   "execution_count": 4,
   "id": "36e1f43b-86a5-4c27-89ca-2aaeac07496a",
   "metadata": {
    "scrolled": true
   },
   "outputs": [
    {
     "name": "stdout",
     "output_type": "stream",
     "text": [
      "{'dataset_version': 1.0, 'ground-truth': False, 'artist': 'A1', 'title': 'Caught In The Middle', 'scores': {'NCC': 0.8908375956615296, 'manual': 0.0}, 'audio': {'url': 'bUG0EQPgyyw', 'path': 'None', 'working': True}, 'id': '44a2455abc0e4fb397a396d2cd1ebeb9', 'metadata': {'album': 'Essential Pop Anthems: Classic 80s, 90s and Current Chart Hits', 'release_date': '2002', 'cover': 'https://e-cdns-images.dzcdn.net/images/cover/18692b8829127f551265eeb6797010a6/1000x1000-000000-80-0-0.jpg', 'language': 'english'}}\n",
      "Song: 44a2455abc0e4fb397a396d2cd1ebeb9.wav from bUG0EQPgyyw\n",
      "[youtube] Extracting URL: http://www.youtube.com/watch?v=bUG0EQPgyyw\n",
      "[youtube] bUG0EQPgyyw: Downloading webpage\n",
      "[youtube] bUG0EQPgyyw: Downloading ios player API JSON\n",
      "[youtube] bUG0EQPgyyw: Downloading android player API JSON\n",
      "[youtube] bUG0EQPgyyw: Downloading m3u8 information\n",
      "[info] bUG0EQPgyyw: Downloading 1 format(s): 251\n",
      "[download] Destination: /Users/das/DATASCI266/dali-dataset/44a2455abc0e4fb397a396d2cd1ebeb9\n"
     ]
    },
    {
     "name": "stderr",
     "output_type": "stream",
     "text": [
      "Input #0, matroska,webm, from 'https://rr2---sn-5uaezns7.googlevideo.com/videoplayback?expire=1711517004&ei=7FgDZuLyBpy9y_sP_NGsuAc&ip=2601%3A780%3A8200%3A14a9%3Ab14f%3A7d43%3Af314%3Ab242&id=o-ABCcR8qfhXCiOOyIN6SWmHxa2tKguyfP-6l-MXgvG4qM&itag=251&source=youtube&requiressl=yes&xpc=EgVo2aDSNQ%3D%3D&mh=aq&mm=31%2C29&mn=sn-5uaezns7%2Csn-5ualdnsr&ms=au%2Crdu&mv=m&mvi=2&pl=25&gcr=us&initcwndbps=1798750&vprv=1&svpuc=1&mime=audio%2Fwebm&gir=yes&clen=3341905&dur=204.221&lmt=1540028359606215&mt=1711495027&fvip=1&keepalive=yes&fexp=51141542&c=ANDROID&txp=5411222&sparams=expire%2Cei%2Cip%2Cid%2Citag%2Csource%2Crequiressl%2Cxpc%2Cgcr%2Cvprv%2Csvpuc%2Cmime%2Cgir%2Cclen%2Cdur%2Clmt&sig=AJfQdSswRQIgJo_k20nL5vN0e-gG4P3ms2Uovs8KCuoV0kOwhAm9pRACIQCCY-IP6axuoFn04A8-X1zQJbHWesHvQq0ge5F8WPMpag%3D%3D&lsparams=mh%2Cmm%2Cmn%2Cms%2Cmv%2Cmvi%2Cpl%2Cinitcwndbps&lsig=ALClDIEwRQIhAIv-hBzJ8vI_Fp8FX2c0J6hBE6AoiLMF7HvZCHgbCWLZAiAeaXZQdtoOQHkvl42p3xyfbRhIPzblt5sNSl9RwiZvgg%3D%3D':\n",
      "  Metadata:\n",
      "    encoder         : google/video-file\n",
      "  Duration: 00:03:24.22, start: -0.007000, bitrate: 130 kb/s\n",
      "  Stream #0:0(eng): Audio: opus, 48000 Hz, stereo, fltp (default)\n",
      "Output #0, webm, to 'file:/Users/das/DATASCI266/dali-dataset/44a2455abc0e4fb397a396d2cd1ebeb9.part':\n",
      "  Metadata:\n",
      "    encoder         : Lavf60.16.100\n",
      "  Stream #0:0(eng): Audio: opus, 48000 Hz, stereo, fltp (default)\n",
      "Stream mapping:\n",
      "  Stream #0:0 -> #0:0 (copy)\n",
      "Press [q] to stop, [?] for help\n",
      "[out#0/webm @ 0x6000009980c0] video:0kB audio:3193kB subtitle:0kB other streams:0kB global headers:0kB muxing overhead: 2.239627%\n",
      "size=    3264kB time=00:03:24.20 bitrate= 131.0kbits/s speed= 887x    \n"
     ]
    },
    {
     "name": "stdout",
     "output_type": "stream",
     "text": [
      "[download] 100% of    3.19MiB in 00:00:00 at 6.02MiB/s\n",
      "Done downloading, now converting ...\n",
      "[ExtractAudio] Destination: /Users/das/DATASCI266/dali-dataset/44a2455abc0e4fb397a396d2cd1ebeb9.wav\n",
      "Deleting original file /Users/das/DATASCI266/dali-dataset/44a2455abc0e4fb397a396d2cd1ebeb9 (pass -k to keep)\n"
     ]
    }
   ],
   "source": [
    "# Download one song and save it to the local directory.\n",
    "if dali_version == 1: \n",
    "    dali_songid = '44a2455abc0e4fb397a396d2cd1ebeb9'\n",
    "    \n",
    "download.get_song_by_songid(dali_data_path, os.getcwd(), dali_songid)"
   ]
  },
  {
   "cell_type": "markdown",
   "id": "4a6bee2b-5ad2-488f-a99c-8f36a99f3db7",
   "metadata": {},
   "source": [
    "# Download Five Random Songs from DALI"
   ]
  },
  {
   "cell_type": "code",
   "execution_count": 4,
   "id": "5d348472-508e-4602-984d-80da240faa8c",
   "metadata": {
    "scrolled": true
   },
   "outputs": [
    {
     "name": "stdout",
     "output_type": "stream",
     "text": [
      "Song 2595: 550490e440ab4b1d85c051b5c27e3a19.wav from 5xjVIc_5jPM\n",
      "[youtube] Extracting URL: http://www.youtube.com/watch?v=5xjVIc_5jPM\n",
      "[youtube] 5xjVIc_5jPM: Downloading webpage\n",
      "[youtube] 5xjVIc_5jPM: Downloading ios player API JSON\n",
      "[youtube] 5xjVIc_5jPM: Downloading android player API JSON\n",
      "[youtube] 5xjVIc_5jPM: Downloading m3u8 information\n",
      "[info] 5xjVIc_5jPM: Downloading 1 format(s): 251\n",
      "[download] Destination: /Users/das/DATASCI266/dali-dataset/550490e440ab4b1d85c051b5c27e3a19\n"
     ]
    },
    {
     "name": "stderr",
     "output_type": "stream",
     "text": [
      "Input #0, matroska,webm, from 'https://rr2---sn-5uaezns7.googlevideo.com/videoplayback?expire=1711522658&ei=Am8DZtaADqKay_sPmfSN-A0&ip=2601%3A780%3A8200%3A14a9%3Ab14f%3A7d43%3Af314%3Ab242&id=o-AIC0Pm40Yy-U802fLhZdSFkbzHN4FcBi82PO5OYLZP0Q&itag=251&source=youtube&requiressl=yes&xpc=EgVo2aDSNQ%3D%3D&mh=xp&mm=31%2C26&mn=sn-5uaezns7%2Csn-p5qlsnrl&ms=au%2Conr&mv=m&mvi=2&pl=25&initcwndbps=1053750&vprv=1&svpuc=1&mime=audio%2Fwebm&gir=yes&clen=4840872&dur=297.521&lmt=1572800227498950&mt=1711500798&fvip=2&keepalive=yes&fexp=51141542&c=ANDROID&txp=1311222&sparams=expire%2Cei%2Cip%2Cid%2Citag%2Csource%2Crequiressl%2Cxpc%2Cvprv%2Csvpuc%2Cmime%2Cgir%2Cclen%2Cdur%2Clmt&sig=AJfQdSswRgIhAOv5ZLzzrypCxXJPpOW87zPi_B4AQOl6kV2qqX4lWZu_AiEA1jdcACJlmtXup1jJuycBwydLqiRGv4nj89vdjBNWO_4%3D&lsparams=mh%2Cmm%2Cmn%2Cms%2Cmv%2Cmvi%2Cpl%2Cinitcwndbps&lsig=ALClDIEwRgIhANShh2QKFmAYVNkmwLttJjH_3ek-fh__BHerMjg5vv8dAiEArjCgEhBVZPY4hmjPqwvnV8IQh2gk8enUOGj6jp_yHEQ%3D':\n",
      "  Metadata:\n",
      "    encoder         : google/video-file\n",
      "  Duration: 00:04:57.52, start: -0.007000, bitrate: 130 kb/s\n",
      "  Stream #0:0(eng): Audio: opus, 48000 Hz, stereo, fltp (default)\n",
      "Output #0, webm, to 'file:/Users/das/DATASCI266/dali-dataset/550490e440ab4b1d85c051b5c27e3a19.part':\n",
      "  Metadata:\n",
      "    encoder         : Lavf60.16.100\n",
      "  Stream #0:0(eng): Audio: opus, 48000 Hz, stereo, fltp (default)\n",
      "Stream mapping:\n",
      "  Stream #0:0 -> #0:0 (copy)\n",
      "Press [q] to stop, [?] for help\n",
      "[out#0/webm @ 0x600003dc0480] video:0kB audio:4625kB subtitle:0kB other streams:0kB global headers:0kB muxing overhead: 2.246504%\n",
      "size=    4729kB time=00:04:57.50 bitrate= 130.2kbits/s speed=1.01e+03x    \n"
     ]
    },
    {
     "name": "stdout",
     "output_type": "stream",
     "text": [
      "[download] 100% of    4.62MiB in 00:00:00 at 7.74MiB/s\n",
      "Done downloading, now converting ...\n",
      "[ExtractAudio] Destination: /Users/das/DATASCI266/dali-dataset/550490e440ab4b1d85c051b5c27e3a19.wav\n",
      "Deleting original file /Users/das/DATASCI266/dali-dataset/550490e440ab4b1d85c051b5c27e3a19 (pass -k to keep)\n",
      "Song 4032: 84b596df6a314e01bf10acfbd0408256.wav from MKVu_CUfwkk\n",
      "[youtube] Extracting URL: http://www.youtube.com/watch?v=MKVu_CUfwkk\n",
      "[youtube] MKVu_CUfwkk: Downloading webpage\n",
      "[youtube] MKVu_CUfwkk: Downloading ios player API JSON\n",
      "[youtube] MKVu_CUfwkk: Downloading android player API JSON\n",
      "[youtube] MKVu_CUfwkk: Downloading m3u8 information\n",
      "[info] MKVu_CUfwkk: Downloading 1 format(s): 251\n",
      "[download] Destination: /Users/das/DATASCI266/dali-dataset/84b596df6a314e01bf10acfbd0408256\n"
     ]
    },
    {
     "name": "stderr",
     "output_type": "stream",
     "text": [
      "Input #0, matroska,webm, from 'https://rr4---sn-5uaeznyz.googlevideo.com/videoplayback?expire=1711522662&ei=Bm8DZsKBFMX2j-8P75WxkAo&ip=2601%3A780%3A8200%3A14a9%3Ab14f%3A7d43%3Af314%3Ab242&id=o-AB1Cc6kouyae7wl3PgpQI8zydPE-j3ACIIbP1c8zmQ-f&itag=251&source=youtube&requiressl=yes&xpc=EgVo2aDSNQ%3D%3D&mh=5U&mm=31%2C29&mn=sn-5uaeznyz%2Csn-5ualdnsy&ms=au%2Crdu&mv=m&mvi=4&pl=25&gcr=us&initcwndbps=938750&vprv=1&svpuc=1&mime=audio%2Fwebm&gir=yes&clen=3331062&dur=206.141&lmt=1565904393459836&mt=1711500798&fvip=5&keepalive=yes&fexp=51141541&c=ANDROID&txp=2311222&sparams=expire%2Cei%2Cip%2Cid%2Citag%2Csource%2Crequiressl%2Cxpc%2Cgcr%2Cvprv%2Csvpuc%2Cmime%2Cgir%2Cclen%2Cdur%2Clmt&sig=AJfQdSswRgIhAIHuQ23zGDEVKqhHRrg15SAk7dlO6_Q2tmsrH5liA-nwAiEA60oQgkzriLTsQ9a_uRCChTG73Ykzj0iso1B7sEjTT28%3D&lsparams=mh%2Cmm%2Cmn%2Cms%2Cmv%2Cmvi%2Cpl%2Cinitcwndbps&lsig=ALClDIEwRQIhAI0TGZYnloxsEg-yV_OM8a1jQT-4VTSl9nm_MZldzU39AiB9ASGw-FmZl5MIsgQB9URE6pMzVMPNgBmZRAhwIzHTAQ%3D%3D':\n",
      "  Metadata:\n",
      "    encoder         : google/video-file\n",
      "  Duration: 00:03:26.14, start: -0.007000, bitrate: 129 kb/s\n",
      "  Stream #0:0(eng): Audio: opus, 48000 Hz, stereo, fltp (default)\n",
      "Output #0, webm, to 'file:/Users/das/DATASCI266/dali-dataset/84b596df6a314e01bf10acfbd0408256.part':\n",
      "  Metadata:\n",
      "    encoder         : Lavf60.16.100\n",
      "  Stream #0:0(eng): Audio: opus, 48000 Hz, stereo, fltp (default)\n",
      "Stream mapping:\n",
      "  Stream #0:0 -> #0:0 (copy)\n",
      "Press [q] to stop, [?] for help\n",
      "[out#0/webm @ 0x60000381c240] video:0kB audio:3182kB subtitle:0kB other streams:0kB global headers:0kB muxing overhead: 2.266510%\n",
      "size=    3254kB time=00:03:26.12 bitrate= 129.3kbits/s speed= 822x    \n"
     ]
    },
    {
     "name": "stdout",
     "output_type": "stream",
     "text": [
      "[download] 100% of    3.18MiB in 00:00:00 at 6.25MiB/s\n",
      "Done downloading, now converting ...\n",
      "[ExtractAudio] Destination: /Users/das/DATASCI266/dali-dataset/84b596df6a314e01bf10acfbd0408256.wav\n",
      "Deleting original file /Users/das/DATASCI266/dali-dataset/84b596df6a314e01bf10acfbd0408256 (pass -k to keep)\n",
      "Song 5220: ab934403d8c74925a01784ead7ae1717.wav from lsYw-ER4h74\n",
      "[youtube] Extracting URL: http://www.youtube.com/watch?v=lsYw-ER4h74\n",
      "[youtube] lsYw-ER4h74: Downloading webpage\n",
      "[youtube] lsYw-ER4h74: Downloading ios player API JSON\n",
      "[youtube] lsYw-ER4h74: Downloading android player API JSON\n",
      "[youtube] lsYw-ER4h74: Downloading m3u8 information\n",
      "[info] lsYw-ER4h74: Downloading 1 format(s): 251\n",
      "[download] Destination: /Users/das/DATASCI266/dali-dataset/ab934403d8c74925a01784ead7ae1717\n"
     ]
    },
    {
     "name": "stderr",
     "output_type": "stream",
     "text": [
      "Input #0, matroska,webm, from 'https://rr4---sn-5uaeznez.googlevideo.com/videoplayback?expire=1711522664&ei=CG8DZrrFL-rMy_sP2qW4sAo&ip=2601%3A780%3A8200%3A14a9%3Ab14f%3A7d43%3Af314%3Ab242&id=o-AEdTBgJ_0AFRhnmFOoltI1NOS1XanG6qAuqkb-Z_RdJ_&itag=251&source=youtube&requiressl=yes&xpc=EgVo2aDSNQ%3D%3D&mh=vr&mm=31%2C26&mn=sn-5uaeznez%2Csn-p5qs7nzy&ms=au%2Conr&mv=m&mvi=4&pl=25&gcr=us&initcwndbps=938750&vprv=1&svpuc=1&mime=audio%2Fwebm&gir=yes&clen=2414771&dur=146.881&lmt=1564224440395106&mt=1711500798&fvip=1&keepalive=yes&fexp=51141541&c=ANDROID&sparams=expire%2Cei%2Cip%2Cid%2Citag%2Csource%2Crequiressl%2Cxpc%2Cgcr%2Cvprv%2Csvpuc%2Cmime%2Cgir%2Cclen%2Cdur%2Clmt&sig=AJfQdSswRQIgHK2uq4JPmnTpnJ-QZoMMlUf4BtYs4QDGf5wFtIMD_PwCIQDhWtj09EcvG89ruQWpCrjN6eDws9yw4BSOlVJWGEwnFg%3D%3D&lsparams=mh%2Cmm%2Cmn%2Cms%2Cmv%2Cmvi%2Cpl%2Cinitcwndbps&lsig=ALClDIEwRgIhAKRysJknGmj4qu0N5NBi1dEA42-UnemGt6u-F-AMTdZTAiEAmzYQTKdXKxwrgII4zlSXGnNFLj3jUZEK1DIvZuONYXQ%3D':\n",
      "  Metadata:\n",
      "    encoder         : google/video-file\n",
      "  Duration: 00:02:26.88, start: -0.007000, bitrate: 131 kb/s\n",
      "  Stream #0:0(eng): Audio: opus, 48000 Hz, stereo, fltp (default)\n",
      "Output #0, webm, to 'file:/Users/das/DATASCI266/dali-dataset/ab934403d8c74925a01784ead7ae1717.part':\n",
      "  Metadata:\n",
      "    encoder         : Lavf60.16.100\n",
      "  Stream #0:0(eng): Audio: opus, 48000 Hz, stereo, fltp (default)\n",
      "Stream mapping:\n",
      "  Stream #0:0 -> #0:0 (copy)\n",
      "Press [q] to stop, [?] for help\n",
      "[out#0/webm @ 0x600003d88000] video:0kB audio:2307kB subtitle:0kB other streams:0kB global headers:0kB muxing overhead: 2.235267%\n",
      "size=    2359kB time=00:02:26.86 bitrate= 131.6kbits/s speed= 609x    \n"
     ]
    },
    {
     "name": "stdout",
     "output_type": "stream",
     "text": [
      "[download] 100% of    2.30MiB in 00:00:00 at 4.60MiB/s\n",
      "Done downloading, now converting ...\n",
      "[ExtractAudio] Destination: /Users/das/DATASCI266/dali-dataset/ab934403d8c74925a01784ead7ae1717.wav\n",
      "Deleting original file /Users/das/DATASCI266/dali-dataset/ab934403d8c74925a01784ead7ae1717 (pass -k to keep)\n",
      "Song 3209: 68de796f19b742eca20d2aa5ce5b12fd.wav from NYmIJuK8U1M\n",
      "[youtube] Extracting URL: http://www.youtube.com/watch?v=NYmIJuK8U1M\n",
      "[youtube] NYmIJuK8U1M: Downloading webpage\n",
      "[youtube] NYmIJuK8U1M: Downloading ios player API JSON\n",
      "[youtube] NYmIJuK8U1M: Downloading android player API JSON\n",
      "[youtube] NYmIJuK8U1M: Downloading m3u8 information\n",
      "[info] NYmIJuK8U1M: Downloading 1 format(s): 251\n",
      "[download] Destination: /Users/das/DATASCI266/dali-dataset/68de796f19b742eca20d2aa5ce5b12fd\n"
     ]
    },
    {
     "name": "stderr",
     "output_type": "stream",
     "text": [
      "Input #0, matroska,webm, from 'https://rr5---sn-5uaeznss.googlevideo.com/videoplayback?expire=1711522667&ei=C28DZvK9AoWHy_sPocO_0Ao&ip=2601%3A780%3A8200%3A14a9%3Ab14f%3A7d43%3Af314%3Ab242&id=o-AGvHBjykZlYcdI5UD3WvzS7FhztKghydwtfSyATkv91y&itag=251&source=youtube&requiressl=yes&xpc=EgVo2aDSNQ%3D%3D&mh=lO&mm=31%2C29&mn=sn-5uaeznss%2Csn-5ualdnlr&ms=au%2Crdu&mv=m&mvi=5&pl=25&initcwndbps=956250&vprv=1&svpuc=1&mime=audio%2Fwebm&gir=yes&clen=3827122&dur=230.021&lmt=1558407068001869&mt=1711501036&fvip=3&keepalive=yes&fexp=51141541&c=ANDROID&txp=5432432&sparams=expire%2Cei%2Cip%2Cid%2Citag%2Csource%2Crequiressl%2Cxpc%2Cvprv%2Csvpuc%2Cmime%2Cgir%2Cclen%2Cdur%2Clmt&sig=AJfQdSswRAIgOKNahHitDbqA68ryD7WDhvNkIcGEFJt8Qw1iNEGzCVMCIAt751lXHCm9erh97Q0xzXufEVIJHoA0djyn-5TBVQJu&lsparams=mh%2Cmm%2Cmn%2Cms%2Cmv%2Cmvi%2Cpl%2Cinitcwndbps&lsig=ALClDIEwRQIhANuQjIIKjHHK4lQpJ1BQaCKfiWYi2K5qd9XKoMd_YIw4AiAvB-XB_HRToZGtdrK3nrZnw5DKzuCfVRQfazjhHnxALA%3D%3D':\n",
      "  Metadata:\n",
      "    encoder         : google/video-file\n",
      "  Duration: 00:03:50.02, start: -0.007000, bitrate: 133 kb/s\n",
      "  Stream #0:0(eng): Audio: opus, 48000 Hz, stereo, fltp (default)\n",
      "Output #0, webm, to 'file:/Users/das/DATASCI266/dali-dataset/68de796f19b742eca20d2aa5ce5b12fd.part':\n",
      "  Metadata:\n",
      "    encoder         : Lavf60.16.100\n",
      "  Stream #0:0(eng): Audio: opus, 48000 Hz, stereo, fltp (default)\n",
      "Stream mapping:\n",
      "  Stream #0:0 -> #0:0 (copy)\n",
      "Press [q] to stop, [?] for help\n",
      "[out#0/webm @ 0x60000006c300] video:0kB audio:3658kB subtitle:0kB other streams:0kB global headers:0kB muxing overhead: 2.200201%\n",
      "size=    3738kB time=00:03:50.00 bitrate= 133.2kbits/s speed= 627x    \n"
     ]
    },
    {
     "name": "stdout",
     "output_type": "stream",
     "text": [
      "[download] 100% of    3.65MiB in 00:00:00 at 4.01MiB/s\n",
      "Done downloading, now converting ...\n",
      "[ExtractAudio] Destination: /Users/das/DATASCI266/dali-dataset/68de796f19b742eca20d2aa5ce5b12fd.wav\n",
      "Deleting original file /Users/das/DATASCI266/dali-dataset/68de796f19b742eca20d2aa5ce5b12fd (pass -k to keep)\n",
      "Song 5329: af7cfe1bf3c64c0fa813280cff9c2a0e.wav from oitcIQ7Dt9U\n",
      "[youtube] Extracting URL: http://www.youtube.com/watch?v=oitcIQ7Dt9U\n",
      "[youtube] oitcIQ7Dt9U: Downloading webpage\n",
      "[youtube] oitcIQ7Dt9U: Downloading ios player API JSON\n",
      "[youtube] oitcIQ7Dt9U: Downloading android player API JSON\n",
      "[youtube] oitcIQ7Dt9U: Downloading m3u8 information\n",
      "[info] oitcIQ7Dt9U: Downloading 1 format(s): 251\n",
      "[download] Destination: /Users/das/DATASCI266/dali-dataset/af7cfe1bf3c64c0fa813280cff9c2a0e\n"
     ]
    },
    {
     "name": "stderr",
     "output_type": "stream",
     "text": [
      "Input #0, matroska,webm, from 'https://rr1---sn-5uaeznez.googlevideo.com/videoplayback?expire=1711522670&ei=Dm8DZq-9BpqWy_sPs8qnkAw&ip=2601%3A780%3A8200%3A14a9%3Ab14f%3A7d43%3Af314%3Ab242&id=o-ALzQ_EjPMgsztIZcbOHhBdAnTdES0gsV7GvHUjcZZ1y3&itag=251&source=youtube&requiressl=yes&xpc=EgVo2aDSNQ%3D%3D&mh=wy&mm=31%2C26&mn=sn-5uaeznez%2Csn-p5qs7n6d&ms=au%2Conr&mv=m&mvi=1&pl=25&initcwndbps=1053750&vprv=1&svpuc=1&mime=audio%2Fwebm&gir=yes&clen=1942064&dur=120.441&lmt=1449607751195861&mt=1711500798&fvip=2&keepalive=yes&fexp=51141541&c=ANDROID&sparams=expire%2Cei%2Cip%2Cid%2Citag%2Csource%2Crequiressl%2Cxpc%2Cvprv%2Csvpuc%2Cmime%2Cgir%2Cclen%2Cdur%2Clmt&sig=AJfQdSswRQIhAK-3QT_M7yD9NzPxxKYT5sBCCXg6H06_qSWTd-OSS-elAiAWQ3OIpOBNkHoND6oB1Z2zbKIYfwoD_KFpiqoiqKi1ag%3D%3D&lsparams=mh%2Cmm%2Cmn%2Cms%2Cmv%2Cmvi%2Cpl%2Cinitcwndbps&lsig=ALClDIEwRgIhAKx8Vk_xIdL0NLgewDdtY_GCEzUp4DuPL-777HynusyAAiEA4-rohuECv57tAGt1rtG8HMaIt94Kxix-sDVibuBf6ck%3D':\n",
      "  Metadata:\n",
      "    encoder         : google\n",
      "  Duration: 00:02:00.44, start: -0.007000, bitrate: 128 kb/s\n",
      "  Stream #0:0(eng): Audio: opus, 48000 Hz, stereo, fltp (default)\n",
      "Output #0, webm, to 'file:/Users/das/DATASCI266/dali-dataset/af7cfe1bf3c64c0fa813280cff9c2a0e.part':\n",
      "  Metadata:\n",
      "    encoder         : Lavf60.16.100\n",
      "  Stream #0:0(eng): Audio: opus, 48000 Hz, stereo, fltp (default)\n",
      "Stream mapping:\n",
      "  Stream #0:0 -> #0:0 (copy)\n",
      "Press [q] to stop, [?] for help\n",
      "[out#0/webm @ 0x600002634240] video:0kB audio:1855kB subtitle:0kB other streams:0kB global headers:0kB muxing overhead: 2.285448%\n",
      "size=    1897kB time=00:02:00.44 bitrate= 129.0kbits/s speed= 514x    \n"
     ]
    },
    {
     "name": "stdout",
     "output_type": "stream",
     "text": [
      "[download] 100% of    1.85MiB in 00:00:00 at 3.61MiB/s\n",
      "Done downloading, now converting ...\n",
      "[ExtractAudio] Destination: /Users/das/DATASCI266/dali-dataset/af7cfe1bf3c64c0fa813280cff9c2a0e.wav\n",
      "Deleting original file /Users/das/DATASCI266/dali-dataset/af7cfe1bf3c64c0fa813280cff9c2a0e (pass -k to keep)\n"
     ]
    }
   ],
   "source": [
    "download.get_five_random_songs(dali_data_path, os.getcwd())"
   ]
  },
  {
   "cell_type": "code",
   "execution_count": null,
   "id": "de3b7174-e802-4db7-995e-6891053935a6",
   "metadata": {},
   "outputs": [],
   "source": []
  }
 ],
 "metadata": {
  "kernelspec": {
   "display_name": "dali-notebooks (Poetry)",
   "language": "python",
   "name": "dali-notebooks"
  },
  "language_info": {
   "codemirror_mode": {
    "name": "ipython",
    "version": 3
   },
   "file_extension": ".py",
   "mimetype": "text/x-python",
   "name": "python",
   "nbconvert_exporter": "python",
   "pygments_lexer": "ipython3",
   "version": "3.11.7"
  }
 },
 "nbformat": 4,
 "nbformat_minor": 5
}
